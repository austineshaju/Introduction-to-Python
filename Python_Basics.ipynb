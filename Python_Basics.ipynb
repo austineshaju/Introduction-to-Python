{
  "nbformat": 4,
  "nbformat_minor": 0,
  "metadata": {
    "colab": {
      "name": "Python Basics.ipynb",
      "provenance": []
    },
    "kernelspec": {
      "name": "python3",
      "display_name": "Python 3"
    },
    "language_info": {
      "name": "python"
    }
  },
  "cells": [
    {
      "cell_type": "code",
      "execution_count": 6,
      "metadata": {
        "colab": {
          "base_uri": "https://localhost:8080/"
        },
        "id": "NGD6BfUaZG_D",
        "outputId": "fd1b96ea-63f3-4346-8015-1562567c9325"
      },
      "outputs": [
        {
          "name": "stdout",
          "output_type": "stream",
          "text": [
            "addadaddasdfhgkjjkc7\n",
            "Emter a number14\n"
          ]
        }
      ],
      "source": [
        "x=input(\"addadaddasdfhgkjjkc\")\n",
        "y=input(\"Emter a number\")"
      ]
    },
    {
      "cell_type": "code",
      "source": [
        "print(x)"
      ],
      "metadata": {
        "colab": {
          "base_uri": "https://localhost:8080/"
        },
        "id": "0rbvbBJabS4k",
        "outputId": "a3005e57-29f8-4716-aa9f-06c5141f96f3"
      },
      "execution_count": 7,
      "outputs": [
        {
          "output_type": "stream",
          "name": "stdout",
          "text": [
            "7\n"
          ]
        }
      ]
    },
    {
      "cell_type": "code",
      "source": [
        "y"
      ],
      "metadata": {
        "colab": {
          "base_uri": "https://localhost:8080/",
          "height": 35
        },
        "id": "g4ZdrCkfbbs0",
        "outputId": "9821f079-3d2b-4b37-b065-bf2a9bac4d8e"
      },
      "execution_count": 8,
      "outputs": [
        {
          "output_type": "execute_result",
          "data": {
            "text/plain": [
              "'14'"
            ],
            "application/vnd.google.colaboratory.intrinsic+json": {
              "type": "string"
            }
          },
          "metadata": {},
          "execution_count": 8
        }
      ]
    },
    {
      "cell_type": "code",
      "source": [
        "x+y"
      ],
      "metadata": {
        "colab": {
          "base_uri": "https://localhost:8080/",
          "height": 35
        },
        "id": "6AyI_8r5buzV",
        "outputId": "66bbc767-b35c-4dde-a1e2-4ebb2e746069"
      },
      "execution_count": 9,
      "outputs": [
        {
          "output_type": "execute_result",
          "data": {
            "text/plain": [
              "'714'"
            ],
            "application/vnd.google.colaboratory.intrinsic+json": {
              "type": "string"
            }
          },
          "metadata": {},
          "execution_count": 9
        }
      ]
    },
    {
      "cell_type": "code",
      "source": [
        "type(x)"
      ],
      "metadata": {
        "colab": {
          "base_uri": "https://localhost:8080/"
        },
        "id": "EyKZ8kndbwiU",
        "outputId": "8e5a7ee6-7975-4a6b-ffcc-9bf0bc7f2270"
      },
      "execution_count": 10,
      "outputs": [
        {
          "output_type": "execute_result",
          "data": {
            "text/plain": [
              "str"
            ]
          },
          "metadata": {},
          "execution_count": 10
        }
      ]
    },
    {
      "cell_type": "code",
      "source": [
        "int(x)+int(y)"
      ],
      "metadata": {
        "colab": {
          "base_uri": "https://localhost:8080/"
        },
        "id": "vqVG2rflb1GV",
        "outputId": "af3cd34b-9513-40ed-8e9c-6a027ed2c43f"
      },
      "execution_count": 12,
      "outputs": [
        {
          "output_type": "execute_result",
          "data": {
            "text/plain": [
              "21"
            ]
          },
          "metadata": {},
          "execution_count": 12
        }
      ]
    },
    {
      "cell_type": "code",
      "source": [
        "y=int(input(\"Enter mark of Accountancy :\"))"
      ],
      "metadata": {
        "colab": {
          "base_uri": "https://localhost:8080/"
        },
        "id": "gaCeVX00b49U",
        "outputId": "9466250e-c7fc-4f70-8195-0c052ab62fec"
      },
      "execution_count": 24,
      "outputs": [
        {
          "name": "stdout",
          "output_type": "stream",
          "text": [
            "Enter mark of Accountancy :50\n"
          ]
        }
      ]
    },
    {
      "cell_type": "code",
      "source": [
        "if y<50 :\n",
        "  print(\"You loss\")\n",
        "if y>50 :\n",
        "  print(\"You Pass\")"
      ],
      "metadata": {
        "id": "BgLu4DpZcEFN"
      },
      "execution_count": 26,
      "outputs": []
    },
    {
      "cell_type": "code",
      "source": [
        "x=int(input(\"Enter your salary \"))\n",
        "if x>250000 :\n",
        "  print(\"You have to pay the tax amount of 10% \")\n",
        "if x<250000 :\n",
        "  print(\"You do not have to pay the tax amount \")"
      ],
      "metadata": {
        "colab": {
          "base_uri": "https://localhost:8080/"
        },
        "id": "7OW5-cQ0cYYM",
        "outputId": "6c0c41fc-b4df-4545-9f04-12b21d0de600"
      },
      "execution_count": 30,
      "outputs": [
        {
          "output_type": "stream",
          "name": "stdout",
          "text": [
            "Enter your salary 123\n",
            "You do not have to pay the tax amount \n"
          ]
        }
      ]
    },
    {
      "cell_type": "code",
      "source": [
        ""
      ],
      "metadata": {
        "id": "uOE2e2CnhBF7"
      },
      "execution_count": 30,
      "outputs": []
    }
  ]
}